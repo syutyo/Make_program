{
  "nbformat": 4,
  "nbformat_minor": 0,
  "metadata": {
    "colab": {
      "name": "kagaku.ipynb",
      "provenance": [],
      "collapsed_sections": [],
      "authorship_tag": "ABX9TyNvQ+J8sKGE36zmUj5DZXJI"
    },
    "kernelspec": {
      "name": "python3",
      "display_name": "Python 3"
    },
    "language_info": {
      "name": "python"
    }
  },
  "cells": [
    {
      "cell_type": "markdown",
      "metadata": {
        "id": "yeC7BZF2q7u9"
      },
      "source": [
        "元のデータの最初の部分は飛ばしてP1のところから読み込んでます 出力されえるデータは、横にP1、P2のデータがつづき、縦は約1900くらいのデータが並んでます"
      ]
    },
    {
      "cell_type": "markdown",
      "metadata": {
        "id": "p_R-rtoJq7iR"
      },
      "source": [
        "実行時間は、3分くらいです(ファイルの大きさにもよりますが)"
      ]
    },
    {
      "cell_type": "code",
      "metadata": {
        "id": "YMGieK81q2Ek"
      },
      "source": [
        "import csv \n",
        "import pprint\n",
        "import pandas as pd\n",
        "\n",
        "v_list = [\"X\",\"W\",\"V\",\"T\",\"S\",\"R\",\"Q\",\"P\",\"N\",\"M\",\"L\",\"K\",\"I\",\"H\",\"G\",\"F\",\"E\",\"D\",\"C\",\"A\"]\n",
        "new_list = []\n",
        "conect_list = []\n",
        "\n",
        "#使う関数の定義\n",
        "def convert_1d_to_2d(l, cols):\n",
        "    return [l[i:i + cols] for i in range(0, len(l), cols)]\n",
        "def convert_1d_to_2d_rows(l, rows):\n",
        "    return convert_1d_to_2d(l, len(l) // rows)\n",
        "\n",
        "# 0，1で出力したい場合はif文の中の処理の部分を変える\n",
        "def make_list_for_csv(j, a):\n",
        "    new_list = []\n",
        "    for name in v_list:  \n",
        "        for i in range(0, len(a)):\n",
        "            if a.iat[i,j] == name:\n",
        "                new_list.insert(i, name) #ここのnameを'1'\n",
        "            else:\n",
        "                new_list.insert(i, '-')  #ここの'-'を'0'にすればできます\n",
        "    return new_list \n",
        "\n",
        "#ここから処理\n",
        "#ファイルパスは書き換えてください\n",
        "a = pd.read_csv('/content/kagaku.csv' , header=None, skipfooter = 1, engine= 'python')\n",
        "many_result_list = [[] for count in range(0, len(a.columns))]\n",
        "\n",
        "# len(a.columns)で元のデータの行の個数を得てます\n",
        "for i in range(0, len(a.columns)-9):\n",
        "        print(i)\n",
        "        many_result_list[i] = make_list_for_csv(i+8, a)\n",
        "        result_list = convert_1d_to_2d_rows(many_result_list[i], 20)\n",
        "        conect_list += result_list\n",
        "        \n",
        "df = pd.DataFrame(conect_list)\n",
        "df = df.T\n",
        "df.to_csv('new_kagaku.csv',index = False)\n",
        "#注\n",
        "#出力されたファイルはP1やP2などの情報がなく横にP1の20種類分の判別結果、P2の30種類分の判別結果・・・のようになっています\n",
        "#最初の行が0スタートなので一個ずつずれています"
      ],
      "execution_count": null,
      "outputs": []
    }
  ]
}